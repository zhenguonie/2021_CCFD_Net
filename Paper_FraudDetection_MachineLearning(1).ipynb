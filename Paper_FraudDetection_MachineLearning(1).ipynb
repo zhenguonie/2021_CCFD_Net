{
  "nbformat": 4,
  "nbformat_minor": 0,
  "metadata": {
    "colab": {
      "name": "Paper_FraudDetection_MachineLearning(1).ipynb",
      "provenance": [],
      "collapsed_sections": []
    },
    "kernelspec": {
      "display_name": "Python 3",
      "language": "python",
      "name": "python3"
    },
    "language_info": {
      "codemirror_mode": {
        "name": "ipython",
        "version": 3
      },
      "file_extension": ".py",
      "mimetype": "text/x-python",
      "name": "python",
      "nbconvert_exporter": "python",
      "pygments_lexer": "ipython3",
      "version": "3.8.3"
    },
    "toc": {
      "base_numbering": 1,
      "nav_menu": {},
      "number_sections": true,
      "sideBar": true,
      "skip_h1_title": false,
      "title_cell": "Table of Contents",
      "title_sidebar": "Contents",
      "toc_cell": false,
      "toc_position": {},
      "toc_section_display": true,
      "toc_window_display": false
    }
  },
  "cells": [
    {
      "cell_type": "code",
      "metadata": {
        "id": "VergKal39duS"
      },
      "source": [
        "import os\n",
        "import numpy as np\n",
        "import pandas as pd\n",
        "from sklearn import preprocessing\n",
        "from sklearn.metrics import roc_auc_score\n",
        "from sklearn.metrics import precision_recall_fscore_support\n",
        "from sklearn.metrics import accuracy_score"
      ],
      "execution_count": null,
      "outputs": []
    },
    {
      "cell_type": "code",
      "metadata": {
        "colab": {
          "base_uri": "https://localhost:8080/"
        },
        "id": "m3ZomK1mHcN2",
        "outputId": "2512b0ed-fefe-4dab-c605-91b3311cb4d3"
      },
      "source": [
        "\n",
        "!unzip 11.zip"
      ],
      "execution_count": null,
      "outputs": [
        {
          "output_type": "stream",
          "text": [
            "Archive:  11.zip\n",
            "  inflating: 11/newsample_submission.csv  \n",
            "  inflating: 11/newtest_identity.csv  \n",
            "  inflating: 11/newtest_transaction_withoutlabel.csv  \n",
            "  inflating: 11/newtrain_identity.csv  \n",
            "  inflating: 11/newtrain_transaction_200000.csv  \n"
          ],
          "name": "stdout"
        }
      ]
    },
    {
      "cell_type": "code",
      "metadata": {
        "colab": {
          "base_uri": "https://localhost:8080/"
        },
        "id": "RMAl_W9s9dua",
        "outputId": "b9afe2b3-40ce-462b-c650-e16ea01e5a08"
      },
      "source": [
        "%%time\n",
        "train_transaction = pd.read_csv('/content/11/newtrain_transaction_200000.csv', index_col='TransactionID')\n",
        "test_transaction = pd.read_csv('/content/11/newtest_transaction_withoutlabel.csv', index_col='TransactionID')\n",
        "\n",
        "train_identity = pd.read_csv('/content/11/newtrain_identity.csv', index_col='TransactionID')\n",
        "test_identity = pd.read_csv('/content/11/newtest_identity.csv', index_col='TransactionID')\n",
        "\n",
        "sample_submission = pd.read_csv('/content/11/newsample_submission.csv', index_col='TransactionID')\n",
        "\n",
        "train = train_transaction.merge(train_identity, how='left', left_index=True, right_index=True)\n",
        "test = test_transaction.merge(test_identity, how='left', left_index=True, right_index=True)\n",
        "\n",
        "print(train.shape)\n",
        "print(test.shape)\n",
        "\n",
        "y_train = train['isFraud'].copy()\n",
        "del train_transaction, train_identity, test_transaction, test_identity\n",
        "\n",
        "# Drop target\n",
        "X_train = train.drop('isFraud', axis=1)\n",
        "X_test = test.copy()\n",
        "\n",
        "del train, test"
      ],
      "execution_count": null,
      "outputs": [
        {
          "output_type": "stream",
          "text": [
            "(80397, 433)\n",
            "(10000, 432)\n",
            "CPU times: user 3.67 s, sys: 404 ms, total: 4.07 s\n",
            "Wall time: 4.1 s\n"
          ],
          "name": "stdout"
        }
      ]
    },
    {
      "cell_type": "code",
      "metadata": {
        "id": "n13FeDdi9duh"
      },
      "source": [
        "X_test_filter = X_test.copy()\n",
        "X_train_filter = X_train.copy()\n",
        "\n",
        "\n",
        "### drop all the NaN columns\n",
        "### dropna() - \n",
        "for column in X_test_filter.columns:\n",
        "    if pd.isnull(X_test_filter[column].unique()[0]):\n",
        "        X_train_filter.drop([column], axis = 1, inplace=True)\n",
        "        X_test_filter.drop([column], axis = 1, inplace=True)"
      ],
      "execution_count": null,
      "outputs": []
    },
    {
      "cell_type": "code",
      "metadata": {
        "id": "nlEMf27S9dul"
      },
      "source": [
        "# Label Encoding\n",
        "def label_encoding(X_train, X_test):\n",
        "    for f in X_train.columns:\n",
        "        if X_train[f].dtype=='object' or X_test[f].dtype=='object': \n",
        "            lbl = preprocessing.LabelEncoder()\n",
        "            lbl.fit(list(X_train[f].values) + list(X_test[f].values))\n",
        "            X_train[f] = lbl.transform(list(X_train[f].values))\n",
        "            X_test[f] = lbl.transform(list(X_test[f].values))\n",
        "    return X_train, X_test"
      ],
      "execution_count": null,
      "outputs": []
    },
    {
      "cell_type": "code",
      "metadata": {
        "id": "Gz_T1tPj9duo"
      },
      "source": [
        "X_train_filter_, X_test_filter_ = label_encoding(X_train_filter, X_test_filter)"
      ],
      "execution_count": null,
      "outputs": []
    },
    {
      "cell_type": "code",
      "metadata": {
        "id": "-TgeXw8y9dur"
      },
      "source": [
        "def fill_na_df(X_train, X_test):\n",
        "    for col_name in X_train.columns: \n",
        "        X_train[col_name].fillna(X_train[col_name].mode()[0], inplace=True)\n",
        "        X_test[col_name].fillna(X_test[col_name].mode()[0], inplace=True)"
      ],
      "execution_count": null,
      "outputs": []
    },
    {
      "cell_type": "code",
      "metadata": {
        "id": "CaQK2LZP9dut"
      },
      "source": [
        "X_train_filter_fill = X_train_filter_.copy()\n",
        "X_test_filter_fill = X_test_filter_.copy()\n",
        "fill_na_df(X_train_filter_fill, X_test_filter_fill)"
      ],
      "execution_count": null,
      "outputs": []
    },
    {
      "cell_type": "code",
      "metadata": {
        "id": "hZKV7QlA9duu"
      },
      "source": [
        "def reduce_mem_usage(df):\n",
        "    \"\"\" iterate through all the columns of a dataframe and modify the data type\n",
        "        to reduce memory usage.        \n",
        "    \"\"\"\n",
        "    start_mem = df.memory_usage().sum() / 1024**2\n",
        "    print('Memory usage of dataframe is {:.2f} MB'.format(start_mem))\n",
        "    \n",
        "    for col in df.columns:\n",
        "        col_type = df[col].dtype\n",
        "        \n",
        "        if col_type != object:\n",
        "            c_min = df[col].min()\n",
        "            c_max = df[col].max()\n",
        "            if str(col_type)[:3] == 'int':\n",
        "                if c_min > np.iinfo(np.int8).min and c_max < np.iinfo(np.int8).max:\n",
        "                    df[col] = df[col].astype(np.int8)\n",
        "                elif c_min > np.iinfo(np.int16).min and c_max < np.iinfo(np.int16).max:\n",
        "                    df[col] = df[col].astype(np.int16)\n",
        "                elif c_min > np.iinfo(np.int32).min and c_max < np.iinfo(np.int32).max:\n",
        "                    df[col] = df[col].astype(np.int32)\n",
        "                elif c_min > np.iinfo(np.int64).min and c_max < np.iinfo(np.int64).max:\n",
        "                    df[col] = df[col].astype(np.int64)  \n",
        "            else:\n",
        "                if c_min > np.finfo(np.float16).min and c_max < np.finfo(np.float16).max:\n",
        "                    df[col] = df[col].astype(np.float16)\n",
        "                elif c_min > np.finfo(np.float32).min and c_max < np.finfo(np.float32).max:\n",
        "                    df[col] = df[col].astype(np.float32)\n",
        "                else:\n",
        "                    df[col] = df[col].astype(np.float64)\n",
        "        else:\n",
        "            df[col] = df[col].astype('category')\n",
        "\n",
        "    end_mem = df.memory_usage().sum() / 1024**2\n",
        "    print('Memory usage after optimization is: {:.2f} MB'.format(end_mem))\n",
        "    print('Decreased by {:.1f}%'.format(100 * (start_mem - end_mem) / start_mem))\n",
        "    \n",
        "    return df"
      ],
      "execution_count": null,
      "outputs": []
    },
    {
      "cell_type": "code",
      "metadata": {
        "colab": {
          "base_uri": "https://localhost:8080/"
        },
        "id": "WU5KLdey9duw",
        "outputId": "067a7b23-43a3-4f24-d8bb-cac4f5c2c270"
      },
      "source": [
        "%%time\n",
        "X_train_filter_fill = reduce_mem_usage(pd.DataFrame(X_train_filter_fill))\n",
        "X_test_filter_fill = reduce_mem_usage(pd.DataFrame(X_test_filter_fill))"
      ],
      "execution_count": null,
      "outputs": [
        {
          "output_type": "stream",
          "text": [
            "Memory usage of dataframe is 141.12 MB\n",
            "Memory usage after optimization is: 39.69 MB\n",
            "Decreased by 71.9%\n",
            "Memory usage of dataframe is 17.55 MB\n",
            "Memory usage after optimization is: 4.89 MB\n",
            "Decreased by 72.1%\n",
            "CPU times: user 4.46 s, sys: 82.8 ms, total: 4.54 s\n",
            "Wall time: 4.56 s\n"
          ],
          "name": "stdout"
        }
      ]
    },
    {
      "cell_type": "code",
      "metadata": {
        "id": "COFqyYoe9duz"
      },
      "source": [
        "from sklearn.model_selection import train_test_split\n",
        "from sklearn.preprocessing import StandardScaler\n",
        "from sklearn.preprocessing import MinMaxScaler\n",
        "\n",
        "sc = StandardScaler()\n",
        "X_train_filter_fill = sc.fit_transform(X_train_filter_fill)\n",
        "X_test_filter_fill = sc.fit_transform(X_test_filter_fill)\n",
        "\n",
        "X_train2, X_test2, Y_train2, Y_test2 = train_test_split(X_train_filter_fill, y_train, test_size=0.1, random_state=1)\n",
        "X_train = np.array(X_train2)\n",
        "y_train = np.array(Y_train2)\n",
        "X_test = np.array(X_test2)\n",
        "y_test = np.array(Y_test2)"
      ],
      "execution_count": null,
      "outputs": []
    },
    {
      "cell_type": "markdown",
      "metadata": {
        "id": "aSZFxXY09du0"
      },
      "source": [
        "# KNN"
      ]
    },
    {
      "cell_type": "code",
      "metadata": {
        "id": "AOjFCgDQ9du1"
      },
      "source": [
        "from sklearn.neighbors import KNeighborsClassifier\n",
        "\n",
        "clf_knn = KNeighborsClassifier(n_neighbors=4, weights=\"distance\", p=1)\n",
        "clf_knn.fit(X_train, y_train)\n",
        "\n",
        "y_predict_knn = clf_knn.predict(X_test)"
      ],
      "execution_count": null,
      "outputs": []
    },
    {
      "cell_type": "code",
      "metadata": {
        "colab": {
          "base_uri": "https://localhost:8080/"
        },
        "id": "usbT1vXX9du2",
        "outputId": "662b806e-208f-496e-d706-f3eb32a857f0"
      },
      "source": [
        "roc_auc_score(y_test, y_predict_knn)"
      ],
      "execution_count": null,
      "outputs": [
        {
          "output_type": "execute_result",
          "data": {
            "text/plain": [
              "0.6830540555586483"
            ]
          },
          "metadata": {
            "tags": []
          },
          "execution_count": 15
        }
      ]
    },
    {
      "cell_type": "code",
      "metadata": {
        "colab": {
          "base_uri": "https://localhost:8080/"
        },
        "id": "4PPQCt6F9du4",
        "outputId": "a888d3e0-6762-43bb-c7ba-2af88b2866f9"
      },
      "source": [
        "accuracy_score(y_test, y_predict_knn)"
      ],
      "execution_count": null,
      "outputs": [
        {
          "output_type": "execute_result",
          "data": {
            "text/plain": [
              "0.9786069651741294"
            ]
          },
          "metadata": {
            "tags": []
          },
          "execution_count": 16
        }
      ]
    },
    {
      "cell_type": "code",
      "metadata": {
        "colab": {
          "base_uri": "https://localhost:8080/"
        },
        "id": "qFvBPr9j9du6",
        "outputId": "659a64b6-c0b0-42b2-c689-4c4800c563a9"
      },
      "source": [
        "precision_recall_fscore_support(y_test, y_predict_knn, average=None)"
      ],
      "execution_count": null,
      "outputs": [
        {
          "output_type": "execute_result",
          "data": {
            "text/plain": [
              "(array([0.98171039, 0.75892857]),\n",
              " array([0.99654289, 0.36956522]),\n",
              " array([0.98907104, 0.49707602]),\n",
              " array([7810,  230]))"
            ]
          },
          "metadata": {
            "tags": []
          },
          "execution_count": 17
        }
      ]
    },
    {
      "cell_type": "code",
      "metadata": {
        "id": "MDH6Q_d19du8"
      },
      "source": [
        "import matplotlib.pyplot as plt\n",
        "from sklearn.metrics import roc_curve, auc\n",
        "\n",
        "# Compute ROC curve and ROC area for each class\n",
        "fpr_knn,tpr_knn,threshold_knn = roc_curve(y_test, y_predict_knn) # calculate false positive and true positive\n",
        "roc_auc_knn = auc(fpr_knn,tpr_knn) # auc"
      ],
      "execution_count": null,
      "outputs": []
    },
    {
      "cell_type": "markdown",
      "metadata": {
        "id": "2LGRwFJs9du9"
      },
      "source": [
        "# SVM"
      ]
    },
    {
      "cell_type": "code",
      "metadata": {
        "id": "t5UaI7Dl9du-"
      },
      "source": [
        "from sklearn import svm\n",
        "\n",
        "clf_SVM = svm.SVC()\n",
        "clf_SVM.fit(X_train, y_train)\n",
        "y_predict_svm=clf_SVM.predict(X_test)"
      ],
      "execution_count": null,
      "outputs": []
    },
    {
      "cell_type": "code",
      "metadata": {
        "colab": {
          "base_uri": "https://localhost:8080/"
        },
        "id": "zhTEO6RD9du_",
        "outputId": "3d39bba1-27fa-4396-dca5-9b23e584764b"
      },
      "source": [
        "roc_auc_score(y_test, y_predict_svm)"
      ],
      "execution_count": null,
      "outputs": [
        {
          "output_type": "execute_result",
          "data": {
            "text/plain": [
              "0.5889383733229416"
            ]
          },
          "metadata": {
            "tags": []
          },
          "execution_count": 20
        }
      ]
    },
    {
      "cell_type": "code",
      "metadata": {
        "colab": {
          "base_uri": "https://localhost:8080/"
        },
        "id": "l1H2QwYU9dvB",
        "outputId": "c8a2046b-f198-4613-e63b-92caa17cb586"
      },
      "source": [
        "accuracy_score(y_test, y_predict_svm)"
      ],
      "execution_count": null,
      "outputs": [
        {
          "output_type": "execute_result",
          "data": {
            "text/plain": [
              "0.9761194029850746"
            ]
          },
          "metadata": {
            "tags": []
          },
          "execution_count": 21
        }
      ]
    },
    {
      "cell_type": "code",
      "metadata": {
        "colab": {
          "base_uri": "https://localhost:8080/"
        },
        "id": "tlE_R36g9dvC",
        "outputId": "ff99a536-4cc6-49c3-ee17-b0f13c8f68ff"
      },
      "source": [
        "precision_recall_fscore_support(y_test, y_predict_svm, average=None)"
      ],
      "execution_count": null,
      "outputs": [
        {
          "output_type": "execute_result",
          "data": {
            "text/plain": [
              "(array([0.97636318, 0.93181818]),\n",
              " array([0.99961588, 0.17826087]),\n",
              " array([0.98785271, 0.29927007]),\n",
              " array([7810,  230]))"
            ]
          },
          "metadata": {
            "tags": []
          },
          "execution_count": 22
        }
      ]
    },
    {
      "cell_type": "code",
      "metadata": {
        "id": "VfE4BUVy9dvE"
      },
      "source": [
        "# Compute ROC curve and ROC area for each class\n",
        "fpr_svm,tpr_svm,threshold_svm = roc_curve(y_test, y_predict_svm) # calculate false positive and true positive\n",
        "roc_auc_svm = auc(fpr_svm,tpr_svm) # auc"
      ],
      "execution_count": null,
      "outputs": []
    },
    {
      "cell_type": "markdown",
      "metadata": {
        "id": "ui6hR-zX9dvF"
      },
      "source": [
        "# Decision Tree"
      ]
    },
    {
      "cell_type": "code",
      "metadata": {
        "id": "N6pnxMou9dvF"
      },
      "source": [
        "from sklearn.tree import DecisionTreeClassifier\n",
        "clf_dt = DecisionTreeClassifier(max_depth=5)\n",
        "clf_dt.fit(X_train, y_train)\n",
        "y_predict_dt=clf_dt.predict(X_test)"
      ],
      "execution_count": null,
      "outputs": []
    },
    {
      "cell_type": "code",
      "metadata": {
        "colab": {
          "base_uri": "https://localhost:8080/"
        },
        "id": "-Dfsem8p9dvG",
        "outputId": "fa57aeb8-1bfa-4e7c-9b3c-ecc6d0fe35a0"
      },
      "source": [
        "roc_auc_score(y_test, y_predict_dt)"
      ],
      "execution_count": null,
      "outputs": [
        {
          "output_type": "execute_result",
          "data": {
            "text/plain": [
              "0.6017257696375883"
            ]
          },
          "metadata": {
            "tags": []
          },
          "execution_count": 25
        }
      ]
    },
    {
      "cell_type": "code",
      "metadata": {
        "colab": {
          "base_uri": "https://localhost:8080/"
        },
        "id": "tdxkeyZD9dvI",
        "outputId": "42229da2-e336-4c78-bd87-acac04e7a40e"
      },
      "source": [
        "accuracy_score(y_test, y_predict_dt)"
      ],
      "execution_count": null,
      "outputs": [
        {
          "output_type": "execute_result",
          "data": {
            "text/plain": [
              "0.9763681592039801"
            ]
          },
          "metadata": {
            "tags": []
          },
          "execution_count": 26
        }
      ]
    },
    {
      "cell_type": "code",
      "metadata": {
        "colab": {
          "base_uri": "https://localhost:8080/"
        },
        "id": "ItyO0Tne9dvJ",
        "outputId": "7b73a86e-c0ec-4cbb-bb48-cf4eba3e8a5b"
      },
      "source": [
        "precision_recall_fscore_support(y_test, y_predict_dt, average=None)"
      ],
      "execution_count": null,
      "outputs": [
        {
          "output_type": "execute_result",
          "data": {
            "text/plain": [
              "(array([0.9770849 , 0.87037037]),\n",
              " array([0.99910371, 0.20434783]),\n",
              " array([0.98797164, 0.33098592]),\n",
              " array([7810,  230]))"
            ]
          },
          "metadata": {
            "tags": []
          },
          "execution_count": 27
        }
      ]
    },
    {
      "cell_type": "code",
      "metadata": {
        "id": "BDcqVYWa9dvK"
      },
      "source": [
        "# Compute ROC curve and ROC area for each class\n",
        "fpr_dt,tpr_dt,threshold_dt = roc_curve(y_test, y_predict_dt) # calculate false positive and true positive\n",
        "roc_auc_dt = auc(fpr_dt,tpr_dt) # auc"
      ],
      "execution_count": null,
      "outputs": []
    },
    {
      "cell_type": "markdown",
      "metadata": {
        "id": "nQSEfQpr9dvL"
      },
      "source": [
        "# Random Forest"
      ]
    },
    {
      "cell_type": "code",
      "metadata": {
        "id": "rZitQ1mR9dvL"
      },
      "source": [
        "from sklearn.ensemble import RandomForestRegressor\n",
        "## Trainning - Random Forest\n",
        "RandomForestRegressor\n",
        "clf_rf = RandomForestRegressor(n_estimators= 200, random_state=42)\n",
        "clf_rf.fit(X_train, y_train)\n",
        "y_predict_rf = clf_rf.predict(X_test)"
      ],
      "execution_count": null,
      "outputs": []
    },
    {
      "cell_type": "code",
      "metadata": {
        "id": "1wVCXmPV9dvN"
      },
      "source": [
        "import math\n",
        "results = []\n",
        "threshold_options = list(np.arange (0.01, 0.16, 0.01))\n",
        "\n",
        "for threshold in threshold_options:\n",
        "    pred = [math.ceil(x) if x > threshold else 0 for x in y_predict_rf]\n",
        "    acc_rf = accuracy_score(y_test, pred) # accuracy\n",
        "    auroc_rf = roc_auc_score(y_test, pred) # auroc\n",
        "\n",
        "    results.append([threshold, acc_rf, auroc_rf])"
      ],
      "execution_count": null,
      "outputs": []
    },
    {
      "cell_type": "code",
      "metadata": {
        "colab": {
          "base_uri": "https://localhost:8080/"
        },
        "id": "1JQtAJgb9dvO",
        "outputId": "338b52de-6023-4e2e-953c-66f944cbbe28"
      },
      "source": [
        "acc_rf"
      ],
      "execution_count": null,
      "outputs": [
        {
          "output_type": "execute_result",
          "data": {
            "text/plain": [
              "0.9743781094527363"
            ]
          },
          "metadata": {
            "tags": []
          },
          "execution_count": 31
        }
      ]
    },
    {
      "cell_type": "code",
      "metadata": {
        "colab": {
          "base_uri": "https://localhost:8080/"
        },
        "id": "TkjyDjxh9dvP",
        "outputId": "3b3e3be0-72d9-49b9-d903-ad3e22fcf725"
      },
      "source": [
        "auroc_rf"
      ],
      "execution_count": null,
      "outputs": [
        {
          "output_type": "execute_result",
          "data": {
            "text/plain": [
              "0.8391193007849469"
            ]
          },
          "metadata": {
            "tags": []
          },
          "execution_count": 32
        }
      ]
    },
    {
      "cell_type": "code",
      "metadata": {
        "id": "96iFKNBB9dvQ",
        "colab": {
          "base_uri": "https://localhost:8080/"
        },
        "outputId": "cf90c12a-57d6-42c3-958a-b89bafe8d0c4"
      },
      "source": [
        "precision_recall_fscore_support(y_test, pred, average=None)"
      ],
      "execution_count": null,
      "outputs": [
        {
          "output_type": "execute_result",
          "data": {
            "text/plain": [
              "(array([0.99096074, 0.54054054]),\n",
              " array([0.98258643, 0.69565217]),\n",
              " array([0.98675582, 0.60836502]),\n",
              " array([7810,  230]))"
            ]
          },
          "metadata": {
            "tags": []
          },
          "execution_count": 33
        }
      ]
    },
    {
      "cell_type": "code",
      "metadata": {
        "id": "2cZe2UZQ9dvR"
      },
      "source": [
        "# Compute ROC curve and ROC area for each class\n",
        "fpr_rf,tpr_rf,threshold_rf = roc_curve(y_test, pred) # calculate false positive and true positive\n",
        "roc_auc_rf = auc(fpr_rf,tpr_rf) # auc"
      ],
      "execution_count": null,
      "outputs": []
    },
    {
      "cell_type": "markdown",
      "metadata": {
        "id": "KTUcCUrQ9dvS"
      },
      "source": [
        "# AdaBoost"
      ]
    },
    {
      "cell_type": "code",
      "metadata": {
        "id": "prqdT3kK9dvS"
      },
      "source": [
        "from sklearn.ensemble import AdaBoostClassifier\n",
        "from sklearn import tree\n",
        "from sklearn.tree import DecisionTreeClassifier\n",
        "\n",
        "## Trainning - Adaboost\n",
        "clf_adb = AdaBoostClassifier(\n",
        "    DecisionTreeClassifier(max_depth=1),\n",
        "    n_estimators=200)\n",
        "clf_adb.fit(X_train, y_train)\n",
        "y_predict_adb = clf_adb.predict(X_test)"
      ],
      "execution_count": null,
      "outputs": []
    },
    {
      "cell_type": "code",
      "metadata": {
        "id": "QCTTC5o19dvU",
        "colab": {
          "base_uri": "https://localhost:8080/"
        },
        "outputId": "dcf4e29a-62c2-4de8-ff4d-97b652ee6225"
      },
      "source": [
        "roc_auc_score(y_test, y_predict_adb)"
      ],
      "execution_count": null,
      "outputs": [
        {
          "output_type": "execute_result",
          "data": {
            "text/plain": [
              "0.6430301174636753"
            ]
          },
          "metadata": {
            "tags": []
          },
          "execution_count": 36
        }
      ]
    },
    {
      "cell_type": "code",
      "metadata": {
        "id": "XP_9EgID9dvV",
        "colab": {
          "base_uri": "https://localhost:8080/"
        },
        "outputId": "a01be551-b32d-4188-d433-2a1e46b21c32"
      },
      "source": [
        "accuracy_score(y_test, y_predict_adb)"
      ],
      "execution_count": null,
      "outputs": [
        {
          "output_type": "execute_result",
          "data": {
            "text/plain": [
              "0.9787313432835821"
            ]
          },
          "metadata": {
            "tags": []
          },
          "execution_count": 37
        }
      ]
    },
    {
      "cell_type": "code",
      "metadata": {
        "id": "q8Px6iGP9dvW",
        "colab": {
          "base_uri": "https://localhost:8080/"
        },
        "outputId": "fb4649de-3831-4508-af78-507442864830"
      },
      "source": [
        "precision_recall_fscore_support(y_test, y_predict_adb, average=None)"
      ],
      "execution_count": null,
      "outputs": [
        {
          "output_type": "execute_result",
          "data": {
            "text/plain": [
              "(array([0.97941509, 0.90410959]),\n",
              " array([0.99910371, 0.28695652]),\n",
              " array([0.98916144, 0.43564356]),\n",
              " array([7810,  230]))"
            ]
          },
          "metadata": {
            "tags": []
          },
          "execution_count": 38
        }
      ]
    },
    {
      "cell_type": "code",
      "metadata": {
        "id": "6VgCrR5T9dvX"
      },
      "source": [
        "# Compute ROC curve and ROC area for each class\n",
        "fpr_adb,tpr_adb,threshold_adb = roc_curve(y_test, y_predict_adb) # calculate false positive and true positive\n",
        "roc_auc_adb = auc(fpr_adb,tpr_adb) # auc"
      ],
      "execution_count": null,
      "outputs": []
    },
    {
      "cell_type": "markdown",
      "metadata": {
        "id": "M1z_HInY9dvY"
      },
      "source": [
        "# Gradient Boosting"
      ]
    },
    {
      "cell_type": "code",
      "metadata": {
        "id": "4RKSlHv99dvY"
      },
      "source": [
        "from sklearn.ensemble import GradientBoostingRegressor\n",
        "\n",
        "clf_gb = GradientBoostingRegressor(max_depth=2, n_estimators=1000, learning_rate=1.0)\n",
        "clf_gb.fit(X_train, y_train)\n",
        "y_predict_gb=clf_gb.predict(X_test)"
      ],
      "execution_count": null,
      "outputs": []
    },
    {
      "cell_type": "code",
      "metadata": {
        "id": "Nxa4kKYq9dvZ"
      },
      "source": [
        "import math\n",
        "results = []\n",
        "threshold_options = list(np.arange (0.01, 0.16, 0.01))\n",
        "\n",
        "for threshold in threshold_options:\n",
        "    pred_gb = [math.ceil(x) if x > threshold else 0 for x in y_predict_gb]\n",
        "    acc_gb = accuracy_score(y_test, pred_gb) # accuracy\n",
        "    auroc_gb = roc_auc_score(y_test, pred_gb) # auroc\n",
        "\n",
        "    results.append([threshold, acc_gb, auroc_gb])"
      ],
      "execution_count": null,
      "outputs": []
    },
    {
      "cell_type": "code",
      "metadata": {
        "id": "2AyZezxQ9dva",
        "colab": {
          "base_uri": "https://localhost:8080/"
        },
        "outputId": "b8c14c86-4970-44b6-9e22-d29dfc4dfbe5"
      },
      "source": [
        "acc_gb"
      ],
      "execution_count": null,
      "outputs": [
        {
          "output_type": "execute_result",
          "data": {
            "text/plain": [
              "0.9610696517412936"
            ]
          },
          "metadata": {
            "tags": []
          },
          "execution_count": 42
        }
      ]
    },
    {
      "cell_type": "code",
      "metadata": {
        "id": "x9VCT_eB9dvc",
        "colab": {
          "base_uri": "https://localhost:8080/"
        },
        "outputId": "7e9acddf-10e9-4a29-df2e-d466d4f80c32"
      },
      "source": [
        "auroc_gb"
      ],
      "execution_count": null,
      "outputs": [
        {
          "output_type": "execute_result",
          "data": {
            "text/plain": [
              "0.8124327784891164"
            ]
          },
          "metadata": {
            "tags": []
          },
          "execution_count": 43
        }
      ]
    },
    {
      "cell_type": "code",
      "metadata": {
        "id": "u1MQVsF_9dvd",
        "colab": {
          "base_uri": "https://localhost:8080/"
        },
        "outputId": "7e99dcc9-e158-4ec9-f3a9-717f6c3083f0"
      },
      "source": [
        "precision_recall_fscore_support(y_test, pred_gb, average=None)"
      ],
      "execution_count": null,
      "outputs": [
        {
          "output_type": "stream",
          "text": [
            "/usr/local/lib/python3.6/dist-packages/sklearn/metrics/_classification.py:1272: UndefinedMetricWarning: Recall and F-score are ill-defined and being set to 0.0 in labels with no true samples. Use `zero_division` parameter to control this behavior.\n",
            "  _warn_prf(average, modifier, msg_start, len(result))\n"
          ],
          "name": "stderr"
        },
        {
          "output_type": "execute_result",
          "data": {
            "text/plain": [
              "(array([0.9894641, 0.375    , 0.       , 0.       ]),\n",
              " array([0.97400768, 0.52173913, 0.        , 0.        ]),\n",
              " array([0.98167505, 0.43636364, 0.        , 0.        ]),\n",
              " array([7810,  230,    0,    0]))"
            ]
          },
          "metadata": {
            "tags": []
          },
          "execution_count": 44
        }
      ]
    },
    {
      "cell_type": "code",
      "metadata": {
        "id": "b2Y1c4U39dve"
      },
      "source": [
        "# Compute ROC curve and ROC area for each class\n",
        "fpr_gb,tpr_gb,threshold_gb = roc_curve(y_test, pred_gb) # calculate false positive and true positive\n",
        "roc_auc_gb = auc(fpr_gb,tpr_gb) # auc"
      ],
      "execution_count": null,
      "outputs": []
    },
    {
      "cell_type": "markdown",
      "metadata": {
        "id": "Z8jdF3Fk9dvf"
      },
      "source": [
        "# XGBoost"
      ]
    },
    {
      "cell_type": "code",
      "metadata": {
        "id": "68kAZIfo9dvf"
      },
      "source": [
        "import os\n",
        "from xgboost import XGBClassifier\n",
        "\n",
        "## Training - XGBT\n",
        "clf_xgbt = XGBClassifier()\n",
        "clf_xgbt.fit(X_train, y_train)\n",
        "pred_XGBT = clf_xgbt.predict(X_test)\n",
        "y_predict_xgbt = [round(value) for value in pred_XGBT]"
      ],
      "execution_count": null,
      "outputs": []
    },
    {
      "cell_type": "code",
      "metadata": {
        "id": "07Ude2HX9dvg",
        "colab": {
          "base_uri": "https://localhost:8080/"
        },
        "outputId": "ffd2d3e3-a683-4edd-84a2-00353ac3c093"
      },
      "source": [
        "roc_auc_score(y_test, y_predict_xgbt)"
      ],
      "execution_count": null,
      "outputs": [
        {
          "output_type": "execute_result",
          "data": {
            "text/plain": [
              "0.6213550075154483"
            ]
          },
          "metadata": {
            "tags": []
          },
          "execution_count": 47
        }
      ]
    },
    {
      "cell_type": "code",
      "metadata": {
        "id": "r3mjTwAP9dvh",
        "colab": {
          "base_uri": "https://localhost:8080/"
        },
        "outputId": "42477b36-413e-4cb9-d25d-e723d77224fc"
      },
      "source": [
        "precision_recall_fscore_support(y_test, y_predict_xgbt, average=None)"
      ],
      "execution_count": null,
      "outputs": [
        {
          "output_type": "execute_result",
          "data": {
            "text/plain": [
              "(array([0.97819002, 0.90322581]),\n",
              " array([0.99923175, 0.24347826]),\n",
              " array([0.98859894, 0.38356164]),\n",
              " array([7810,  230]))"
            ]
          },
          "metadata": {
            "tags": []
          },
          "execution_count": 48
        }
      ]
    },
    {
      "cell_type": "code",
      "metadata": {
        "colab": {
          "base_uri": "https://localhost:8080/",
          "height": 632
        },
        "id": "oXis7cgF9dvi",
        "outputId": "437b92aa-27d0-413f-cbab-2fe616712429"
      },
      "source": [
        "# Compute ROC curve and ROC area for each class\n",
        "fpr_xgbt,tpr_xgbt,threshold_xgbt = roc_curve(y_test, y_predict_xgbt) # calculate false positive and true positive\n",
        "roc_auc_xgbt = auc(fpr_xgbt,tpr_xgbt) # auc\n",
        "\n",
        "\n",
        "\n",
        "plt.figure(dpi=600)\n",
        "lw = 2\n",
        "plt.figure(figsize=(10,10))\n",
        "plt.plot(fpr_knn, tpr_knn, color='b',\n",
        "         lw=lw, label='KNN ROC (area = %0.2f)' % roc_auc_knn) \n",
        "plt.plot(fpr_svm, tpr_svm, color='darkorange',\n",
        "         lw=lw, label='SVM ROC (area = %0.2f)' % roc_auc_svm) \n",
        "plt.plot(fpr_dt, tpr_dt, color='pink',\n",
        "         lw=lw, label='Decision Tree ROC (area = %0.2f)' % roc_auc_dt)\n",
        "plt.plot(fpr_rf, tpr_rf, color='c',\n",
        "         lw=lw, label='Random Forest ROC (area = %0.2f)' % roc_auc_rf) \n",
        "plt.plot(fpr_adb, tpr_adb, color='g',\n",
        "         lw=lw, label='Adaboost ROC (area = %0.2f)' % roc_auc_adb) \n",
        "plt.plot(fpr_gb, tpr_gb, color='m',\n",
        "         lw=lw, label='GradientBoost ROC (area = %0.2f)' % roc_auc_gb) \n",
        "plt.plot(fpr_xgbt, tpr_xgbt, color='r',\n",
        "         lw=lw, label='XGBT ROC (area = %0.2f)' % roc_auc_xgbt) \n",
        "plt.plot([0, 1], [0, 1], color='navy', lw=lw, linestyle='--')\n",
        "plt.xlim([0.0, 1.0])\n",
        "plt.ylim([0.0, 1.05])\n",
        "plt.xlabel('False Positive Rate',fontsize=20)\n",
        "plt.ylabel('True Positive Rate',fontsize=20)\n",
        "#plt.title('Receiver operating characteristic example')\n",
        "plt.legend(loc=\"lower right\",fontsize=15)\n",
        "\n",
        "plt.savefig('ROC_600.png', dpi=600)\n",
        "plt.savefig('ROC_150.png', dpi=150)"
      ],
      "execution_count": null,
      "outputs": [
        {
          "output_type": "display_data",
          "data": {
            "text/plain": [
              "<Figure size 3600x2400 with 0 Axes>"
            ]
          },
          "metadata": {
            "tags": []
          }
        },
        {
          "output_type": "display_data",
          "data": {
            "image/png": "[encoded data removed]",
            "text/plain": [
              "<Figure size 720x720 with 1 Axes>"
            ]
          },
          "metadata": {
            "tags": [],
            "needs_background": "light"
          }
        }
      ]
    }
  ]
}