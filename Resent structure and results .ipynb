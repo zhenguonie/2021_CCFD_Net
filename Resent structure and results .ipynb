{
 "cells": [
  {
   "cell_type": "code",
   "execution_count": 46,
   "metadata": {
    "id": "2z_SiIuq2Ac8"
   },
   "outputs": [],
   "source": [
    "import keras.backend as K\n",
    "\n",
    "def f1(y_true, y_pred):\n",
    "    true_positives = K.sum(K.round(K.clip(y_true * y_pred, 0, 1)))\n",
    "    possible_positives = K.sum(K.round(K.clip(y_true, 0, 1)))\n",
    "    predicted_positives = K.sum(K.round(K.clip(y_pred, 0, 1)))\n",
    "    precision = true_positives / (predicted_positives + K.epsilon())\n",
    "    recall = true_positives / (possible_positives + K.epsilon())\n",
    "    f1_val = 2*(precision*recall)/(precision+recall+K.epsilon())\n",
    "    return f1_val"
   ]
  },
  {
   "cell_type": "code",
   "execution_count": 47,
   "metadata": {
    "id": "iTuuYvnY2Ac8"
   },
   "outputs": [],
   "source": [
    "#resnet18-conv_block\n",
    "def conv_block(input_tensor, filters, kernel, stride = 2):\n",
    "    x = Conv1D(filters, kernel_size= kernel, strides = stride, padding = 'same')(input_tensor)\n",
    "    #x = BatchNormalization()(x)\n",
    "    x = Activation('relu')(x)\n",
    "    \n",
    "    x = Conv1D(filters, kernel_size= kernel, strides = 1, padding = 'same')(x)\n",
    "    x = BatchNormalization()(x)\n",
    "    \n",
    "    shortcut = Conv1D(filters, kernel_size= 1, strides = stride, padding = 'same')(input_tensor)\n",
    "    shortcut = BatchNormalization()(shortcut)\n",
    "    \n",
    "    x = Add()([x, shortcut])\n",
    "    x = Activation('relu')(x)\n",
    "    \n",
    "    return x"
   ]
  },
  {
   "cell_type": "code",
   "execution_count": 48,
   "metadata": {
    "id": "EDUHSuBg2Ac8"
   },
   "outputs": [],
   "source": [
    "#resnet18-Identity_block\n",
    "def identity_block(input_tensor, filters, kernel):\n",
    "    x = Conv1D(filters, kernel_size= kernel, strides = 1, padding = 'same')(input_tensor)\n",
    "    x = BatchNormalization()(x)\n",
    "    x = Activation('relu')(x)\n",
    "    \n",
    "    x = Conv1D(filters, kernel_size= kernel, strides = 1, padding = 'same')(x)\n",
    "    x = BatchNormalization()(x)\n",
    "    \n",
    "    x = Add()([x, input_tensor])\n",
    "    x = Activation('relu')(x)\n",
    "    \n",
    "    return x"
   ]
  },
  {
   "cell_type": "code",
   "execution_count": 49,
   "metadata": {
    "id": "3oeJnd_82Ac8"
   },
   "outputs": [],
   "source": [
    "# using channel attention module\n",
    "def attention(input_tensor):\n",
    "    input_channels = int(input_tensor.shape[-1])\n",
    "    x = GlobalAveragePooling1D()(input_tensor)\n",
    "    x = Dense(int(input_channels/4))(x)\n",
    "    x = Activation('relu')(x)\n",
    "    x = Dense(input_channels)(x)\n",
    "    x = Activation('sigmoid')(x)\n",
    "    x = Reshape((1,  input_channels))(x)\n",
    "    x = Multiply()([input_tensor, x])\n",
    "    \n",
    "    return x"
   ]
  },
  {
   "cell_type": "code",
   "execution_count": 50,
   "metadata": {
    "id": "KZjKSHch2Ac8"
   },
   "outputs": [],
   "source": [
    "def resnet_18_1D(length):\n",
    "    inputs = Input((length, 1))\n",
    "    x = Conv1D(64, 7, strides = 2, padding = 'same')(inputs)\n",
    "    x = BatchNormalization()(x)\n",
    "    x = Activation('relu')(x)\n",
    "    x = MaxPooling1D()(x)\n",
    "    \n",
    "    x = conv_block(x, 64, 3, stride = 1)\n",
    "    x = identity_block(x, 64, 3)\n",
    "    \n",
    "    x = conv_block(x, 128, 3)\n",
    "    x = identity_block(x, 128, 3)\n",
    "    \n",
    "    x = conv_block(x, 256, 3)\n",
    "    x = identity_block(x, 256, 3)\n",
    "    \n",
    "    x = conv_block(x, 256, 3)\n",
    "    x = identity_block(x, 256, 3)\n",
    "    \n",
    "    x = attention(x)\n",
    "    x = GlobalAvgPool1D()(x)\n",
    "    #x = Dropout(0.2)(x)\n",
    "    x = Dense(100, activation='relu')(x)\n",
    "    x = Dropout(0.2)(x)\n",
    "    x = Dense(1, activation='sigmoid')(x)\n",
    "    \n",
    "    model = models.Model(inputs = inputs, outputs = x)\n",
    "    \n",
    "    return model"
   ]
  },
  {
   "cell_type": "code",
   "execution_count": 63,
   "metadata": {
    "id": "8Y8XT_JPLCIl"
   },
   "outputs": [],
   "source": [
    "import tensorflow as tf\n",
    "from tensorflow import keras\n",
    "import tensorflow\n",
    "from tensorflow import keras\n",
    "opt = tf.keras.optimizers.SGD(learning_rate=0.001, momentum=0.9)\n",
    "\n"
   ]
  },
  {
   "cell_type": "code",
   "execution_count": 64,
   "metadata": {
    "id": "KvAPsEIl2Ac8"
   },
   "outputs": [],
   "source": [
    "fraud.compile(optimizer = opt, loss = \"binary_crossentropy\", metrics=[f1])"
   ]
  },
  {
   "cell_type": "code",
   "execution_count": null,
   "metadata": {
    "id": "UzIVjGnt2Ac8"
   },
   "outputs": [],
   "source": [
    "fraud.summary()"
   ]
  },
  {
   "cell_type": "code",
   "execution_count": 59,
   "metadata": {
    "colab": {
     "base_uri": "https://localhost:8080/"
    },
    "id": "fQd_YNz-2Ac9",
    "outputId": "30f19d5a-9ac8-467e-cafd-4047ec6af8bd"
   },
   "outputs": [
    {
     "name": "stdout",
     "output_type": "stream",
     "text": [
      "WARNING:tensorflow:`period` argument is deprecated. Please use `save_freq` to specify the frequency in number of batches seen.\n"
     ]
    }
   ],
   "source": [
    "#save the model(every 5 epoches)\n",
    "checkpoint_period = ModelCheckpoint(\n",
    "                                    log_dir + 'ep{epoch:03d}-loss{loss:.3f}-val_loss{val_loss:.3f}.h5',\n",
    "                                    monitor='val_loss', \n",
    "                                    save_weights_only=False, \n",
    "                                    save_best_only=True, \n",
    "                                    period=5\n",
    "                                )"
   ]
  },
  {
   "cell_type": "code",
   "execution_count": 57,
   "metadata": {
    "id": "6OXnNus72Ac9"
   },
   "outputs": [],
   "source": [
    "#reduce the lr, if the val_loss does not reduce in 3 epoches, then reduce the lr, factor is 0.5\n",
    "reduce_lr = ReduceLROnPlateau(\n",
    "                            monitor='val_loss', \n",
    "                            factor=0.5, \n",
    "                            patience=3, \n",
    "                            verbose=1\n",
    "                        )"
   ]
  },
  {
   "cell_type": "code",
   "execution_count": 60,
   "metadata": {
    "id": "QeyHcoQT2Ac9"
   },
   "outputs": [],
   "source": [
    "#early stopp\n",
    "early_stopping = EarlyStopping(\n",
    "                            monitor='val_loss', \n",
    "                            min_delta=0, \n",
    "                            patience=10, \n",
    "                            verbose=1\n",
    "                        )"
   ]
  },
  {
   "cell_type": "code",
   "execution_count": 65,
   "metadata": {
    "colab": {
     "base_uri": "https://localhost:8080/"
    },
    "id": "zlhAcOq42Ac9",
    "outputId": "3705dff1-d67e-41a2-b9f9-5218dc73648f"
   },
   "outputs": [
    {
     "name": "stdout",
     "output_type": "stream",
     "text": [
      "Epoch 1/50\n",
      "1131/1131 [==============================] - 27s 24ms/step - loss: 0.1200 - f1: 0.0682 - val_loss: 0.1032 - val_f1: 0.0914\n",
      "Epoch 2/50\n",
      "1131/1131 [==============================] - 26s 23ms/step - loss: 0.0943 - f1: 0.1571 - val_loss: 0.1003 - val_f1: 0.1104\n",
      "Epoch 3/50\n",
      "1131/1131 [==============================] - 26s 23ms/step - loss: 0.0888 - f1: 0.1990 - val_loss: 0.0934 - val_f1: 0.1850\n",
      "Epoch 4/50\n",
      "1131/1131 [==============================] - 26s 23ms/step - loss: 0.0850 - f1: 0.2264 - val_loss: 0.0884 - val_f1: 0.2350\n",
      "Epoch 5/50\n",
      "1131/1131 [==============================] - 26s 23ms/step - loss: 0.0813 - f1: 0.2712 - val_loss: 0.0875 - val_f1: 0.2231\n",
      "Epoch 6/50\n",
      "1131/1131 [==============================] - 26s 23ms/step - loss: 0.0790 - f1: 0.2874 - val_loss: 0.0886 - val_f1: 0.2231\n",
      "Epoch 7/50\n",
      "1131/1131 [==============================] - 26s 23ms/step - loss: 0.0771 - f1: 0.3014 - val_loss: 0.0882 - val_f1: 0.2848\n",
      "Epoch 8/50\n",
      "1131/1131 [==============================] - 26s 23ms/step - loss: 0.0740 - f1: 0.3233 - val_loss: 0.0941 - val_f1: 0.1921\n",
      "Epoch 9/50\n",
      "1131/1131 [==============================] - 26s 23ms/step - loss: 0.0723 - f1: 0.3374 - val_loss: 0.0863 - val_f1: 0.2422\n",
      "Epoch 10/50\n",
      "1131/1131 [==============================] - 26s 23ms/step - loss: 0.0696 - f1: 0.3637 - val_loss: 0.0848 - val_f1: 0.2983\n",
      "Epoch 11/50\n",
      "1131/1131 [==============================] - 26s 23ms/step - loss: 0.0672 - f1: 0.4042 - val_loss: 0.0818 - val_f1: 0.3231\n",
      "Epoch 12/50\n",
      "1131/1131 [==============================] - 26s 23ms/step - loss: 0.0647 - f1: 0.3940 - val_loss: 0.0838 - val_f1: 0.2882\n",
      "Epoch 13/50\n",
      "1131/1131 [==============================] - 26s 23ms/step - loss: 0.0625 - f1: 0.4187 - val_loss: 0.0823 - val_f1: 0.3496\n",
      "Epoch 14/50\n",
      "1131/1131 [==============================] - 26s 23ms/step - loss: 0.0613 - f1: 0.4343 - val_loss: 0.0836 - val_f1: 0.3200\n",
      "Epoch 15/50\n",
      "1131/1131 [==============================] - 26s 23ms/step - loss: 0.0584 - f1: 0.4475 - val_loss: 0.0816 - val_f1: 0.3458\n",
      "Epoch 16/50\n",
      "1131/1131 [==============================] - 26s 23ms/step - loss: 0.0569 - f1: 0.4656 - val_loss: 0.0839 - val_f1: 0.2959\n",
      "Epoch 17/50\n",
      "1131/1131 [==============================] - 26s 23ms/step - loss: 0.0547 - f1: 0.4757 - val_loss: 0.0932 - val_f1: 0.2544\n",
      "Epoch 18/50\n",
      "1131/1131 [==============================] - 26s 23ms/step - loss: 0.0531 - f1: 0.4746 - val_loss: 0.0853 - val_f1: 0.2937\n",
      "Epoch 19/50\n",
      "1131/1131 [==============================] - 26s 23ms/step - loss: 0.0514 - f1: 0.4745 - val_loss: 0.0807 - val_f1: 0.4365\n",
      "Epoch 20/50\n",
      "1131/1131 [==============================] - 27s 24ms/step - loss: 0.0509 - f1: 0.5007 - val_loss: 0.0824 - val_f1: 0.3256\n",
      "Epoch 21/50\n",
      "1131/1131 [==============================] - 27s 24ms/step - loss: 0.0477 - f1: 0.5078 - val_loss: 0.0817 - val_f1: 0.3634\n",
      "Epoch 22/50\n",
      "1131/1131 [==============================] - 27s 24ms/step - loss: 0.0480 - f1: 0.5149 - val_loss: 0.0832 - val_f1: 0.3818\n",
      "Epoch 23/50\n",
      "1131/1131 [==============================] - 27s 24ms/step - loss: 0.0462 - f1: 0.5164 - val_loss: 0.0886 - val_f1: 0.3236\n",
      "Epoch 24/50\n",
      "1131/1131 [==============================] - 27s 24ms/step - loss: 0.0456 - f1: 0.5323 - val_loss: 0.0877 - val_f1: 0.3473\n",
      "Epoch 25/50\n",
      "1131/1131 [==============================] - 27s 23ms/step - loss: 0.0424 - f1: 0.5580 - val_loss: 0.0871 - val_f1: 0.4133\n",
      "Epoch 26/50\n",
      "1131/1131 [==============================] - 27s 23ms/step - loss: 0.0418 - f1: 0.5531 - val_loss: 0.0847 - val_f1: 0.4203\n",
      "Epoch 27/50\n",
      "1131/1131 [==============================] - 27s 23ms/step - loss: 0.0406 - f1: 0.5537 - val_loss: 0.0816 - val_f1: 0.4152\n",
      "Epoch 28/50\n",
      "1131/1131 [==============================] - 27s 24ms/step - loss: 0.0385 - f1: 0.5737 - val_loss: 0.0867 - val_f1: 0.4337\n",
      "Epoch 29/50\n",
      "1131/1131 [==============================] - 27s 23ms/step - loss: 0.0391 - f1: 0.5546 - val_loss: 0.0826 - val_f1: 0.4017\n",
      "Epoch 00029: early stopping\n",
      "CPU times: user 13min 20s, sys: 1min 38s, total: 14min 59s\n",
      "Wall time: 12min 48s\n"
     ]
    }
   ],
   "source": [
    "%%time\n",
    "history = fraud.fit(X_train2_, Y_train2, batch_size=64, epochs=50, validation_data=(X_test2_, Y_test2)\n",
    "                   , callbacks=[checkpoint_period,early_stopping])"
   ]
  },
  {
   "cell_type": "code",
   "execution_count": 68,
   "metadata": {
    "colab": {
     "base_uri": "https://localhost:8080/",
     "height": 573
    },
    "id": "ANnhHx9Y2Ac-",
    "outputId": "4b08baed-d24c-4c9d-ad82-4d30f1e152f5"
   },
   "outputs": [
    {
     "data": {
      "image/png": "[encoded data removed]",
      "text/plain": [
       "<Figure size 432x288 with 1 Axes>"
      ]
     },
     "metadata": {
      "needs_background": "light",
      "tags": []
     },
     "output_type": "display_data"
    },
    {
     "data": {
      "image/png": "[encoded data removed]",
      "text/plain": [
       "<Figure size 432x288 with 1 Axes>"
      ]
     },
     "metadata": {
      "needs_background": "light",
      "tags": []
     },
     "output_type": "display_data"
    }
   ],
   "source": [
    "import matplotlib.pyplot as plt\n",
    "# summarize history for accuracy\n",
    "plt.plot(history.history['f1'])\n",
    "\n",
    "plt.plot(history.history['val_f1'])\n",
    "\n",
    "plt.title('model f1')\n",
    "\n",
    "plt.ylabel('f1')\n",
    "\n",
    "plt.xlabel('epoch')\n",
    "\n",
    "plt.legend(['train','test'], loc='upper left')\n",
    "\n",
    "plt.show()\n",
    "\n",
    "# summarize history for loss\n",
    "\n",
    "plt.plot(history.history['loss'])\n",
    "\n",
    "plt.plot(history.history['val_loss'])\n",
    "\n",
    "plt.title('model loss')\n",
    "\n",
    "plt.ylabel('loss')\n",
    "\n",
    "plt.xlabel('epoch')\n",
    "\n",
    "plt.legend(['train','test'], loc='upper left')\n",
    "plt.show()\n"
   ]
  },
  {
   "cell_type": "code",
   "execution_count": 69,
   "metadata": {
    "id": "tmJalAD02Ac-"
   },
   "outputs": [],
   "source": [
    "output1 = fraud.predict(X_test2_)\n",
    "output0 = fraud.predict(X_train2_)"
   ]
  },
  {
   "cell_type": "code",
   "execution_count": 70,
   "metadata": {
    "colab": {
     "base_uri": "https://localhost:8080/"
    },
    "id": "LtbdWIv-2Ac-",
    "outputId": "ccdb2d83-c2f1-4991-de0d-38fbcacc90d6"
   },
   "outputs": [
    {
     "data": {
      "text/plain": [
       "0.8850893503312365"
      ]
     },
     "execution_count": 70,
     "metadata": {
      "tags": []
     },
     "output_type": "execute_result"
    }
   ],
   "source": [
    "roc_auc_score(Y_test2, output1)"
   ]
  },
  {
   "cell_type": "code",
   "execution_count": null,
   "metadata": {
    "id": "mwNQ11GD2Ac-",
    "outputId": "31a5fa13-4a59-4b61-c1ab-77b16a3b57d7"
   },
   "outputs": [
    {
     "data": {
      "text/plain": [
       "0.9662793836225706"
      ]
     },
     "execution_count": 36,
     "metadata": {
      "tags": []
     },
     "output_type": "execute_result"
    }
   ],
   "source": [
    "roc_auc_score(Y_train2, output0)"
   ]
  },
  {
   "cell_type": "code",
   "execution_count": null,
   "metadata": {
    "id": "xg91XVk72Ac_"
   },
   "outputs": [],
   "source": [
    "from sklearn.metrics import roc_auc_score\n",
    "from sklearn.metrics import precision_recall_fscore_support\n",
    "from sklearn.metrics import accuracy_score"
   ]
  },
  {
   "cell_type": "code",
   "execution_count": null,
   "metadata": {
    "id": "gIKA6Q802Ac_",
    "outputId": "735d254e-988e-4ca5-8471-9a603611c15a"
   },
   "outputs": [
    {
     "data": {
      "text/plain": [
       "(array([0.98611465, 0.63684211]),\n",
       " array([0.99116517, 0.52608696]),\n",
       " array([0.98863346, 0.57619048]),\n",
       " array([7810,  230]))"
      ]
     },
     "execution_count": 44,
     "metadata": {
      "tags": []
     },
     "output_type": "execute_result"
    }
   ],
   "source": [
    "precision_recall_fscore_support(Y_test2, pred, average=None)"
   ]
  },
  {
   "cell_type": "code",
   "execution_count": null,
   "metadata": {
    "id": "AMA1t8Da2Ac_",
    "outputId": "aaf58482-5bc7-4940-ee8d-87d8dee6ec7a"
   },
   "outputs": [
    {
     "data": {
      "text/plain": [
       "<Figure size 3600x2400 with 0 Axes>"
      ]
     },
     "metadata": {
      "tags": []
     },
     "output_type": "display_data"
    },
    {
     "data": {
      "image/png": "[encoded data removed]",
      "text/plain": [
       "<Figure size 720x720 with 1 Axes>"
      ]
     },
     "metadata": {
      "needs_background": "light",
      "tags": []
     },
     "output_type": "display_data"
    }
   ],
   "source": [
    "import matplotlib.pyplot as plt\n",
    "from sklearn.metrics import roc_curve, auc\n",
    "\n",
    "# Compute ROC curve and ROC area for each class\n",
    "fpr,tpr,threshold = roc_curve(Y_test2, pred) # calculate false positive and true positive\n",
    "roc_auc = auc(fpr,tpr) # auc\n",
    "\n",
    "\n",
    "plt.figure(dpi=600)\n",
    "lw = 2\n",
    "plt.figure(figsize=(10,10))\n",
    "plt.plot(fpr, tpr, color='darkorange',\n",
    "         lw=lw, label='ROC curve (area = %0.2f)' % roc_auc) \n",
    "plt.plot([0, 1], [0, 1], color='navy', lw=lw, linestyle='--')\n",
    "plt.xlim([0.0, 1.0])\n",
    "plt.ylim([0.0, 1.05])\n",
    "plt.xlabel('False Positive Rate')\n",
    "plt.ylabel('True Positive Rate')\n",
    "plt.title('Receiver operating characteristic example')\n",
    "plt.legend(loc=\"lower right\")\n",
    "\n",
    "plt.savefig('resnet_600.png', dpi=600)\n",
    "plt.savefig('resnet_150.png', dpi=150)"
   ]
  },
  {
   "cell_type": "code",
   "execution_count": null,
   "metadata": {
    "id": "zZ9s6xaC2Ac_"
   },
   "outputs": [],
   "source": []
  }
 ],
 "metadata": {
  "accelerator": "GPU",
  "colab": {
   "name": "Paper_FraudDetection_ResNet(1).ipynb",
   "provenance": []
  },
  "kernelspec": {
   "display_name": "Python 3",
   "language": "python",
   "name": "python3"
  },
  "language_info": {
   "codemirror_mode": {
    "name": "ipython",
    "version": 3
   },
   "file_extension": ".py",
   "mimetype": "text/x-python",
   "name": "python",
   "nbconvert_exporter": "python",
   "pygments_lexer": "ipython3",
   "version": "3.8.3"
  },
  "toc": {
   "base_numbering": 1,
   "nav_menu": {},
   "number_sections": true,
   "sideBar": true,
   "skip_h1_title": false,
   "title_cell": "Table of Contents",
   "title_sidebar": "Contents",
   "toc_cell": false,
   "toc_position": {},
   "toc_section_display": true,
   "toc_window_display": false
  }
 },
 "nbformat": 4,
 "nbformat_minor": 1
}
